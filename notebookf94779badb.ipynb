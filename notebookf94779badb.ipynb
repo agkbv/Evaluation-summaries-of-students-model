{
 "cells": [
  {
   "cell_type": "code",
   "execution_count": 1,
   "id": "1923d66f",
   "metadata": {
    "_cell_guid": "b1076dfc-b9ad-4769-8c92-a6c4dae69d19",
    "_uuid": "8f2839f25d086af736a60e9eeb907d3b93b6e0e5",
    "execution": {
     "iopub.execute_input": "2023-08-22T15:59:53.306015Z",
     "iopub.status.busy": "2023-08-22T15:59:53.305381Z",
     "iopub.status.idle": "2023-08-22T16:00:05.615653Z",
     "shell.execute_reply": "2023-08-22T16:00:05.614630Z"
    },
    "papermill": {
     "duration": 12.321108,
     "end_time": "2023-08-22T16:00:05.618521",
     "exception": false,
     "start_time": "2023-08-22T15:59:53.297413",
     "status": "completed"
    },
    "tags": []
   },
   "outputs": [
    {
     "name": "stderr",
     "output_type": "stream",
     "text": [
      "/opt/conda/lib/python3.10/site-packages/scipy/__init__.py:146: UserWarning: A NumPy version >=1.16.5 and <1.23.0 is required for this version of SciPy (detected version 1.23.5\n",
      "  warnings.warn(f\"A NumPy version >={np_minversion} and <{np_maxversion}\"\n",
      "/opt/conda/lib/python3.10/site-packages/tensorflow_io/python/ops/__init__.py:98: UserWarning: unable to load libtensorflow_io_plugins.so: unable to open file: libtensorflow_io_plugins.so, from paths: ['/opt/conda/lib/python3.10/site-packages/tensorflow_io/python/ops/libtensorflow_io_plugins.so']\n",
      "caused by: ['/opt/conda/lib/python3.10/site-packages/tensorflow_io/python/ops/libtensorflow_io_plugins.so: undefined symbol: _ZN3tsl6StatusC1EN10tensorflow5error4CodeESt17basic_string_viewIcSt11char_traitsIcEENS_14SourceLocationE']\n",
      "  warnings.warn(f\"unable to load libtensorflow_io_plugins.so: {e}\")\n",
      "/opt/conda/lib/python3.10/site-packages/tensorflow_io/python/ops/__init__.py:104: UserWarning: file system plugins are not loaded: unable to open file: libtensorflow_io.so, from paths: ['/opt/conda/lib/python3.10/site-packages/tensorflow_io/python/ops/libtensorflow_io.so']\n",
      "caused by: ['/opt/conda/lib/python3.10/site-packages/tensorflow_io/python/ops/libtensorflow_io.so: undefined symbol: _ZTVN10tensorflow13GcsFileSystemE']\n",
      "  warnings.warn(f\"file system plugins are not loaded: {e}\")\n"
     ]
    }
   ],
   "source": [
    "import pandas as pd\n",
    "import numpy as np\n",
    "from sklearn.model_selection import train_test_split\n",
    "from sklearn.preprocessing import StandardScaler\n",
    "from sklearn.metrics import mean_squared_error\n",
    "from keras.models import Sequential\n",
    "from keras.layers import Dense, Embedding, LSTM, Dropout\n",
    "from keras.preprocessing.text import Tokenizer\n",
    "from keras.utils import pad_sequences"
   ]
  },
  {
   "cell_type": "code",
   "execution_count": 2,
   "id": "598cb045",
   "metadata": {
    "execution": {
     "iopub.execute_input": "2023-08-22T16:00:05.633438Z",
     "iopub.status.busy": "2023-08-22T16:00:05.631664Z",
     "iopub.status.idle": "2023-08-22T16:00:05.794687Z",
     "shell.execute_reply": "2023-08-22T16:00:05.793359Z"
    },
    "papermill": {
     "duration": 0.173638,
     "end_time": "2023-08-22T16:00:05.798115",
     "exception": false,
     "start_time": "2023-08-22T16:00:05.624477",
     "status": "completed"
    },
    "tags": []
   },
   "outputs": [],
   "source": [
    "train_summaries = pd.read_csv('/kaggle/input/commonlit-evaluate-student-summaries/summaries_train.csv')\n",
    "train_prompts = pd.read_csv('/kaggle/input/commonlit-evaluate-student-summaries/prompts_train.csv')"
   ]
  },
  {
   "cell_type": "code",
   "execution_count": 3,
   "id": "5c9d104b",
   "metadata": {
    "execution": {
     "iopub.execute_input": "2023-08-22T16:00:05.817249Z",
     "iopub.status.busy": "2023-08-22T16:00:05.815892Z",
     "iopub.status.idle": "2023-08-22T16:00:05.852024Z",
     "shell.execute_reply": "2023-08-22T16:00:05.850265Z"
    },
    "papermill": {
     "duration": 0.049389,
     "end_time": "2023-08-22T16:00:05.855344",
     "exception": false,
     "start_time": "2023-08-22T16:00:05.805955",
     "status": "completed"
    },
    "tags": []
   },
   "outputs": [],
   "source": [
    "train_data = pd.merge(train_summaries, train_prompts, on=\"prompt_id\")"
   ]
  },
  {
   "cell_type": "code",
   "execution_count": 4,
   "id": "45b83fb2",
   "metadata": {
    "execution": {
     "iopub.execute_input": "2023-08-22T16:00:05.869620Z",
     "iopub.status.busy": "2023-08-22T16:00:05.868850Z",
     "iopub.status.idle": "2023-08-22T16:00:05.875082Z",
     "shell.execute_reply": "2023-08-22T16:00:05.874099Z"
    },
    "papermill": {
     "duration": 0.016728,
     "end_time": "2023-08-22T16:00:05.877830",
     "exception": false,
     "start_time": "2023-08-22T16:00:05.861102",
     "status": "completed"
    },
    "tags": []
   },
   "outputs": [],
   "source": [
    "X = train_data[\"text\"]\n",
    "y_content = train_data[\"content\"]\n",
    "y_wording = train_data[\"wording\"]"
   ]
  },
  {
   "cell_type": "code",
   "execution_count": 5,
   "id": "8098d6da",
   "metadata": {
    "execution": {
     "iopub.execute_input": "2023-08-22T16:00:05.891936Z",
     "iopub.status.busy": "2023-08-22T16:00:05.891028Z",
     "iopub.status.idle": "2023-08-22T16:00:05.901321Z",
     "shell.execute_reply": "2023-08-22T16:00:05.900187Z"
    },
    "papermill": {
     "duration": 0.020724,
     "end_time": "2023-08-22T16:00:05.904112",
     "exception": false,
     "start_time": "2023-08-22T16:00:05.883388",
     "status": "completed"
    },
    "tags": []
   },
   "outputs": [],
   "source": [
    "X_train, X_valid, y_content_train, y_content_valid, y_wording_train, y_wording_valid = train_test_split(\n",
    "    X, y_content, y_wording, test_size=0.2, random_state=42\n",
    ")"
   ]
  },
  {
   "cell_type": "code",
   "execution_count": 6,
   "id": "d93a75d9",
   "metadata": {
    "execution": {
     "iopub.execute_input": "2023-08-22T16:00:05.917866Z",
     "iopub.status.busy": "2023-08-22T16:00:05.916978Z",
     "iopub.status.idle": "2023-08-22T16:00:06.988390Z",
     "shell.execute_reply": "2023-08-22T16:00:06.987054Z"
    },
    "papermill": {
     "duration": 1.081784,
     "end_time": "2023-08-22T16:00:06.991499",
     "exception": false,
     "start_time": "2023-08-22T16:00:05.909715",
     "status": "completed"
    },
    "tags": []
   },
   "outputs": [],
   "source": [
    "max_words = 10000  \n",
    "tokenizer = Tokenizer(num_words=max_words)\n",
    "tokenizer.fit_on_texts(X_train)\n",
    "X_train_tokens = tokenizer.texts_to_sequences(X_train)\n",
    "X_valid_tokens = tokenizer.texts_to_sequences(X_valid)"
   ]
  },
  {
   "cell_type": "code",
   "execution_count": 7,
   "id": "1c448232",
   "metadata": {
    "execution": {
     "iopub.execute_input": "2023-08-22T16:00:07.005207Z",
     "iopub.status.busy": "2023-08-22T16:00:07.004365Z",
     "iopub.status.idle": "2023-08-22T16:00:07.108341Z",
     "shell.execute_reply": "2023-08-22T16:00:07.106917Z"
    },
    "papermill": {
     "duration": 0.114384,
     "end_time": "2023-08-22T16:00:07.111543",
     "exception": false,
     "start_time": "2023-08-22T16:00:06.997159",
     "status": "completed"
    },
    "tags": []
   },
   "outputs": [],
   "source": [
    "max_sequence_length = 500  # Adjust based on your data\n",
    "X_train_padded = pad_sequences(X_train_tokens, maxlen=max_sequence_length, padding='post')\n",
    "X_valid_padded = pad_sequences(X_valid_tokens, maxlen=max_sequence_length, padding='post')"
   ]
  },
  {
   "cell_type": "code",
   "execution_count": 8,
   "id": "59c8a36a",
   "metadata": {
    "execution": {
     "iopub.execute_input": "2023-08-22T16:00:07.127463Z",
     "iopub.status.busy": "2023-08-22T16:00:07.126383Z",
     "iopub.status.idle": "2023-08-22T16:00:07.679189Z",
     "shell.execute_reply": "2023-08-22T16:00:07.677842Z"
    },
    "papermill": {
     "duration": 0.563193,
     "end_time": "2023-08-22T16:00:07.682149",
     "exception": false,
     "start_time": "2023-08-22T16:00:07.118956",
     "status": "completed"
    },
    "tags": []
   },
   "outputs": [],
   "source": [
    "model = Sequential()\n",
    "model.add(Embedding(input_dim=max_words, output_dim=100, input_length=max_sequence_length))\n",
    "model.add(LSTM(128, dropout=0.2, recurrent_dropout=0.2))\n",
    "model.add(Dense(64, activation='relu'))\n",
    "model.add(Dropout(0.5))\n",
    "model.add(Dense(1, activation='linear'))  # Regression task\n",
    "\n",
    "model.compile(loss='mean_squared_error', optimizer='adam')"
   ]
  },
  {
   "cell_type": "code",
   "execution_count": 9,
   "id": "ed66b166",
   "metadata": {
    "execution": {
     "iopub.execute_input": "2023-08-22T16:00:07.695310Z",
     "iopub.status.busy": "2023-08-22T16:00:07.694886Z",
     "iopub.status.idle": "2023-08-22T16:00:07.953284Z",
     "shell.execute_reply": "2023-08-22T16:00:07.951670Z"
    },
    "papermill": {
     "duration": 0.268366,
     "end_time": "2023-08-22T16:00:07.956118",
     "exception": false,
     "start_time": "2023-08-22T16:00:07.687752",
     "status": "completed"
    },
    "tags": []
   },
   "outputs": [],
   "source": [
    "model = Sequential()\n",
    "model.add(Embedding(input_dim=max_words, output_dim=100, input_length=max_sequence_length))\n",
    "model.add(LSTM(128, dropout=0.2, recurrent_dropout=0.2))\n",
    "model.add(Dense(64, activation='relu'))\n",
    "model.add(Dropout(0.5))\n",
    "model.add(Dense(1, activation='linear'))"
   ]
  },
  {
   "cell_type": "code",
   "execution_count": 10,
   "id": "8ed4184f",
   "metadata": {
    "execution": {
     "iopub.execute_input": "2023-08-22T16:00:07.969758Z",
     "iopub.status.busy": "2023-08-22T16:00:07.969283Z",
     "iopub.status.idle": "2023-08-22T16:00:07.987136Z",
     "shell.execute_reply": "2023-08-22T16:00:07.985608Z"
    },
    "papermill": {
     "duration": 0.028456,
     "end_time": "2023-08-22T16:00:07.990401",
     "exception": false,
     "start_time": "2023-08-22T16:00:07.961945",
     "status": "completed"
    },
    "tags": []
   },
   "outputs": [],
   "source": [
    "model.compile(loss='mean_squared_error', optimizer='adam')"
   ]
  },
  {
   "cell_type": "code",
   "execution_count": 11,
   "id": "deb796c2",
   "metadata": {
    "execution": {
     "iopub.execute_input": "2023-08-22T16:00:08.004255Z",
     "iopub.status.busy": "2023-08-22T16:00:08.003799Z",
     "iopub.status.idle": "2023-08-22T16:29:02.397298Z",
     "shell.execute_reply": "2023-08-22T16:29:02.395739Z"
    },
    "papermill": {
     "duration": 1734.404197,
     "end_time": "2023-08-22T16:29:02.400636",
     "exception": false,
     "start_time": "2023-08-22T16:00:07.996439",
     "status": "completed"
    },
    "tags": []
   },
   "outputs": [
    {
     "name": "stdout",
     "output_type": "stream",
     "text": [
      "Epoch 1/10\n",
      "180/180 [==============================] - 176s 946ms/step - loss: 1.0936 - val_loss: 1.0840\n",
      "Epoch 2/10\n",
      "180/180 [==============================] - 173s 961ms/step - loss: 1.0919 - val_loss: 1.0829\n",
      "Epoch 3/10\n",
      "180/180 [==============================] - 177s 983ms/step - loss: 1.0907 - val_loss: 1.0829\n",
      "Epoch 4/10\n",
      "180/180 [==============================] - 178s 991ms/step - loss: 1.0900 - val_loss: 1.0829\n",
      "Epoch 5/10\n",
      "180/180 [==============================] - 177s 982ms/step - loss: 1.1040 - val_loss: 1.0829\n",
      "Epoch 6/10\n",
      "180/180 [==============================] - 174s 969ms/step - loss: 1.0874 - val_loss: 1.0831\n",
      "Epoch 7/10\n",
      "180/180 [==============================] - 172s 954ms/step - loss: 1.0893 - val_loss: 1.0829\n",
      "Epoch 8/10\n",
      "180/180 [==============================] - 170s 944ms/step - loss: 1.0851 - val_loss: 1.0829\n",
      "Epoch 9/10\n",
      "180/180 [==============================] - 168s 935ms/step - loss: 1.0841 - val_loss: 1.0829\n",
      "Epoch 10/10\n",
      "180/180 [==============================] - 169s 940ms/step - loss: 1.0954 - val_loss: 1.0829\n"
     ]
    },
    {
     "data": {
      "text/plain": [
       "<keras.callbacks.History at 0x7a3000591de0>"
      ]
     },
     "execution_count": 11,
     "metadata": {},
     "output_type": "execute_result"
    }
   ],
   "source": [
    "model.fit(X_train_padded, y_content_train, validation_data=(X_valid_padded, y_content_valid), epochs=10, batch_size=32)"
   ]
  },
  {
   "cell_type": "code",
   "execution_count": 12,
   "id": "d3beee6c",
   "metadata": {
    "execution": {
     "iopub.execute_input": "2023-08-22T16:29:02.744978Z",
     "iopub.status.busy": "2023-08-22T16:29:02.744503Z",
     "iopub.status.idle": "2023-08-22T16:29:03.518811Z",
     "shell.execute_reply": "2023-08-22T16:29:03.517821Z"
    },
    "papermill": {
     "duration": 0.94751,
     "end_time": "2023-08-22T16:29:03.521367",
     "exception": false,
     "start_time": "2023-08-22T16:29:02.573857",
     "status": "completed"
    },
    "tags": []
   },
   "outputs": [
    {
     "name": "stdout",
     "output_type": "stream",
     "text": [
      "1/1 [==============================] - 0s 480ms/step\n",
      "1/1 [==============================] - 0s 105ms/step\n"
     ]
    }
   ],
   "source": [
    "test_summaries = pd.read_csv(\"/kaggle/input/commonlit-evaluate-student-summaries/summaries_test.csv\")\n",
    "test_prompts = pd.read_csv(\"/kaggle/input/commonlit-evaluate-student-summaries/prompts_test.csv\")\n",
    "\n",
    "test_data = pd.merge(test_summaries, test_prompts, on=\"prompt_id\")\n",
    "X_test = test_data[\"text\"]\n",
    "\n",
    "X_test_tokens = tokenizer.texts_to_sequences(X_test)\n",
    "X_test_padded = pad_sequences(X_test_tokens, maxlen=max_sequence_length, padding='post')\n",
    "\n",
    "test_predictions_content = model.predict(X_test_padded)\n",
    "test_predictions_wording = model.predict(X_test_padded) "
   ]
  },
  {
   "cell_type": "code",
   "execution_count": 13,
   "id": "b9868839",
   "metadata": {
    "execution": {
     "iopub.execute_input": "2023-08-22T16:29:03.866492Z",
     "iopub.status.busy": "2023-08-22T16:29:03.866006Z",
     "iopub.status.idle": "2023-08-22T16:29:03.881444Z",
     "shell.execute_reply": "2023-08-22T16:29:03.880475Z"
    },
    "papermill": {
     "duration": 0.192019,
     "end_time": "2023-08-22T16:29:03.884484",
     "exception": false,
     "start_time": "2023-08-22T16:29:03.692465",
     "status": "completed"
    },
    "tags": []
   },
   "outputs": [],
   "source": [
    "submission = pd.DataFrame({\n",
    "    \"prompt_id\": test_data[\"prompt_id\"],\n",
    "    \"content\": test_predictions_content.flatten(),\n",
    "    \"wording\": test_predictions_wording.flatten()\n",
    "})\n",
    "\n",
    "submission.to_csv(\"submission.csv\", index=False)"
   ]
  },
  {
   "cell_type": "code",
   "execution_count": null,
   "id": "50c44c72",
   "metadata": {
    "papermill": {
     "duration": 0.176915,
     "end_time": "2023-08-22T16:29:04.233016",
     "exception": false,
     "start_time": "2023-08-22T16:29:04.056101",
     "status": "completed"
    },
    "tags": []
   },
   "outputs": [],
   "source": []
  }
 ],
 "metadata": {
  "kernelspec": {
   "display_name": "Python 3",
   "language": "python",
   "name": "python3"
  },
  "language_info": {
   "codemirror_mode": {
    "name": "ipython",
    "version": 3
   },
   "file_extension": ".py",
   "mimetype": "text/x-python",
   "name": "python",
   "nbconvert_exporter": "python",
   "pygments_lexer": "ipython3",
   "version": "3.10.12"
  },
  "papermill": {
   "default_parameters": {},
   "duration": 1767.906062,
   "end_time": "2023-08-22T16:29:07.543127",
   "environment_variables": {},
   "exception": null,
   "input_path": "__notebook__.ipynb",
   "output_path": "__notebook__.ipynb",
   "parameters": {},
   "start_time": "2023-08-22T15:59:39.637065",
   "version": "2.4.0"
  }
 },
 "nbformat": 4,
 "nbformat_minor": 5
}
